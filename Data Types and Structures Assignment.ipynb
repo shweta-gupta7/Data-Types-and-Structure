{
 "cells": [
  {
   "metadata": {},
   "cell_type": "markdown",
   "source": "Data Types and Structure Questions",
   "id": "d47265baf4b144ed"
  },
  {
   "metadata": {
    "ExecuteTime": {
     "end_time": "2025-03-25T11:45:06.446713Z",
     "start_time": "2025-03-25T11:45:06.442461Z"
    }
   },
   "cell_type": "code",
   "source": [
    "#Practical Questions\n",
    "#Ques 1 Write a code to create a string with your name and print it.\n",
    "name = \"Shweta\"\n",
    "print(name)"
   ],
   "id": "a420b731c9c04f19",
   "outputs": [
    {
     "name": "stdout",
     "output_type": "stream",
     "text": [
      "Shweta\n"
     ]
    }
   ],
   "execution_count": 5
  },
  {
   "metadata": {
    "ExecuteTime": {
     "end_time": "2025-03-25T11:45:07.383365Z",
     "start_time": "2025-03-25T11:45:07.378233Z"
    }
   },
   "cell_type": "code",
   "source": [
    "#Ques 2 Write a code to find the length of the string \"Hello World\".\n",
    "a = \"Hello World\"\n",
    "print(len(a))"
   ],
   "id": "bb849ad00ef58063",
   "outputs": [
    {
     "name": "stdout",
     "output_type": "stream",
     "text": [
      "11\n"
     ]
    }
   ],
   "execution_count": 6
  },
  {
   "metadata": {
    "ExecuteTime": {
     "end_time": "2025-03-25T11:45:07.548661Z",
     "start_time": "2025-03-25T11:45:07.543262Z"
    }
   },
   "cell_type": "code",
   "source": [
    "#Ques 3 Write a code to slice the first 3 characters from the string \"Python Programming\"\n",
    "string = \"Python Programming\"\n",
    "string[:3]"
   ],
   "id": "2d9100b72de3e14c",
   "outputs": [
    {
     "data": {
      "text/plain": [
       "'Pyt'"
      ]
     },
     "execution_count": 7,
     "metadata": {},
     "output_type": "execute_result"
    }
   ],
   "execution_count": 7
  },
  {
   "metadata": {
    "ExecuteTime": {
     "end_time": "2025-03-25T11:45:07.715580Z",
     "start_time": "2025-03-25T11:45:07.712733Z"
    }
   },
   "cell_type": "code",
   "source": [
    "#Ques 4 Write a code to convert the string \"hello\" to uppercase.\n",
    "b = \"hello\"\n",
    "print(b.upper())"
   ],
   "id": "3684cacc96e04936",
   "outputs": [
    {
     "name": "stdout",
     "output_type": "stream",
     "text": [
      "HELLO\n"
     ]
    }
   ],
   "execution_count": 8
  },
  {
   "metadata": {
    "ExecuteTime": {
     "end_time": "2025-03-25T11:45:07.902827Z",
     "start_time": "2025-03-25T11:45:07.898139Z"
    }
   },
   "cell_type": "code",
   "source": [
    "#Ques 5 Write a code to replace the word \"apple\" with \"orange\" in the string \"I like apple\".\n",
    "c = \"I like apple\"\n",
    "c = c.replace(\"apple\", \"orange\")\n",
    "print(c)"
   ],
   "id": "b1b397a6f36a409b",
   "outputs": [
    {
     "name": "stdout",
     "output_type": "stream",
     "text": [
      "I like orange\n"
     ]
    }
   ],
   "execution_count": 9
  },
  {
   "metadata": {
    "ExecuteTime": {
     "end_time": "2025-03-25T11:45:08.078456Z",
     "start_time": "2025-03-25T11:45:08.073633Z"
    }
   },
   "cell_type": "code",
   "source": [
    "#Ques 6 Write a code to create a list with numbers 1 to 5 and print it.\n",
    "lis = [1, 2, 3, 4, 5]\n",
    "print(lis)"
   ],
   "id": "afa6ec3ec5197c32",
   "outputs": [
    {
     "name": "stdout",
     "output_type": "stream",
     "text": [
      "[1, 2, 3, 4, 5]\n"
     ]
    }
   ],
   "execution_count": 10
  },
  {
   "metadata": {
    "ExecuteTime": {
     "end_time": "2025-03-25T11:45:08.237760Z",
     "start_time": "2025-03-25T11:45:08.234531Z"
    }
   },
   "cell_type": "code",
   "source": [
    "#Ques 7 Write a code to append the number 10 to the list [1, 2, 3, 4].\n",
    "lis1 =[1, 2, 3, 4]\n",
    "lis1.append(10)\n",
    "print(lis1)"
   ],
   "id": "688143b5974ec040",
   "outputs": [
    {
     "name": "stdout",
     "output_type": "stream",
     "text": [
      "[1, 2, 3, 4, 10]\n"
     ]
    }
   ],
   "execution_count": 11
  },
  {
   "metadata": {
    "ExecuteTime": {
     "end_time": "2025-03-25T11:45:08.397905Z",
     "start_time": "2025-03-25T11:45:08.393610Z"
    }
   },
   "cell_type": "code",
   "source": [
    "#Ques 8 Write a code to remove the number 3 from the list [1, 2, 3, 4, 5].\n",
    "lis = [1, 2, 3, 4, 5]\n",
    "lis.remove(3)\n",
    "print(lis)"
   ],
   "id": "ba9b2efa5cba516",
   "outputs": [
    {
     "name": "stdout",
     "output_type": "stream",
     "text": [
      "[1, 2, 4, 5]\n"
     ]
    }
   ],
   "execution_count": 12
  },
  {
   "metadata": {
    "ExecuteTime": {
     "end_time": "2025-03-25T11:45:08.569650Z",
     "start_time": "2025-03-25T11:45:08.564930Z"
    }
   },
   "cell_type": "code",
   "source": [
    "#Ques 9 Write a code to access the second element in the list ['a', 'b', 'c', 'd'].\n",
    "lis2 = [\"a\", \"b\", \"c\", \"d\"]\n",
    "print(lis2[1])"
   ],
   "id": "f356e3ff58e6613e",
   "outputs": [
    {
     "name": "stdout",
     "output_type": "stream",
     "text": [
      "b\n"
     ]
    }
   ],
   "execution_count": 13
  },
  {
   "metadata": {
    "ExecuteTime": {
     "end_time": "2025-03-25T11:45:08.757302Z",
     "start_time": "2025-03-25T11:45:08.754034Z"
    }
   },
   "cell_type": "code",
   "source": [
    "#Ques 10 P Write a code to reverse the list [10, 20, 30, 40, 50]\n",
    "lis3 = [10, 20, 30, 40, 50]\n",
    "lis3.reverse()\n",
    "print(lis3)"
   ],
   "id": "96baaf4f68484036",
   "outputs": [
    {
     "name": "stdout",
     "output_type": "stream",
     "text": [
      "[50, 40, 30, 20, 10]\n"
     ]
    }
   ],
   "execution_count": 14
  },
  {
   "metadata": {
    "ExecuteTime": {
     "end_time": "2025-03-25T11:45:08.907079Z",
     "start_time": "2025-03-25T11:45:08.904421Z"
    }
   },
   "cell_type": "code",
   "source": [
    "#Ques 11 Write a code to create a tuple with the elements 100, 200, 300 and print it.\n",
    "tup = (100, 200, 300)\n",
    "print(tup)"
   ],
   "id": "907435c8a82dca1f",
   "outputs": [
    {
     "name": "stdout",
     "output_type": "stream",
     "text": [
      "(100, 200, 300)\n"
     ]
    }
   ],
   "execution_count": 15
  },
  {
   "metadata": {
    "ExecuteTime": {
     "end_time": "2025-03-25T11:45:09.089723Z",
     "start_time": "2025-03-25T11:45:09.086594Z"
    }
   },
   "cell_type": "code",
   "source": [
    "#Ques 12 Write a code to access the second-to-last element of the tuple ('red', 'green', 'blue', 'yellow').\n",
    "tup1 = (\"red\", \"green\", \"blue\", \"yellow\")\n",
    "print(tup1[-2])"
   ],
   "id": "75db5c162b553c1f",
   "outputs": [
    {
     "name": "stdout",
     "output_type": "stream",
     "text": [
      "blue\n"
     ]
    }
   ],
   "execution_count": 16
  },
  {
   "metadata": {
    "ExecuteTime": {
     "end_time": "2025-03-25T11:45:09.268372Z",
     "start_time": "2025-03-25T11:45:09.264347Z"
    }
   },
   "cell_type": "code",
   "source": [
    "#Ques 13 Write a code to find the minimum number in the tuple (10, 20, 5, 15).\n",
    "tup2 = (10, 20, 5, 15)\n",
    "min(tup2)"
   ],
   "id": "82cf3091e07095b5",
   "outputs": [
    {
     "data": {
      "text/plain": [
       "5"
      ]
     },
     "execution_count": 17,
     "metadata": {},
     "output_type": "execute_result"
    }
   ],
   "execution_count": 17
  },
  {
   "metadata": {
    "ExecuteTime": {
     "end_time": "2025-03-25T11:45:09.463110Z",
     "start_time": "2025-03-25T11:45:09.459940Z"
    }
   },
   "cell_type": "code",
   "source": [
    "#Ques 14  Write a code to find the index of the element \"cat\" in the tuple ('dog', 'cat', 'rabbit').\n",
    "tup3 = (\"dog\", \"cat\", \"rabbit\")\n",
    "print(tup3.index(\"cat\"))"
   ],
   "id": "7a4a20557d705d48",
   "outputs": [
    {
     "name": "stdout",
     "output_type": "stream",
     "text": [
      "1\n"
     ]
    }
   ],
   "execution_count": 18
  },
  {
   "metadata": {
    "ExecuteTime": {
     "end_time": "2025-03-25T11:45:09.627604Z",
     "start_time": "2025-03-25T11:45:09.624490Z"
    }
   },
   "cell_type": "code",
   "source": [
    "#Ques 15  Write a code to create a tuple containing three different fruits and check if \"kiwi\" is in it.\n",
    "tup4 = (\"apple\", \"banana\", \"cherry\")\n",
    "\"kiwi\" in tup4"
   ],
   "id": "490c3d03974f8e68",
   "outputs": [
    {
     "data": {
      "text/plain": [
       "False"
      ]
     },
     "execution_count": 19,
     "metadata": {},
     "output_type": "execute_result"
    }
   ],
   "execution_count": 19
  },
  {
   "metadata": {
    "ExecuteTime": {
     "end_time": "2025-03-25T11:45:09.817485Z",
     "start_time": "2025-03-25T11:45:09.812298Z"
    }
   },
   "cell_type": "code",
   "source": [
    "#Ques 16 Write a code to create a set with the elements 'a', 'b', 'c' and print it.\n",
    "set1 = {\"a\", \"b\", \"c\"}\n",
    "print(set1)"
   ],
   "id": "da2670c8445507dd",
   "outputs": [
    {
     "name": "stdout",
     "output_type": "stream",
     "text": [
      "{'c', 'b', 'a'}\n"
     ]
    }
   ],
   "execution_count": 20
  },
  {
   "metadata": {
    "ExecuteTime": {
     "end_time": "2025-03-25T11:45:09.994236Z",
     "start_time": "2025-03-25T11:45:09.990477Z"
    }
   },
   "cell_type": "code",
   "source": [
    "#Ques 17 Write a code to clear all elements from the set {1, 2, 3, 4, 5}.\n",
    "set2 = {1, 2, 3, 4, 5}\n",
    "set2.clear()\n",
    "print(set2)"
   ],
   "id": "b04f998980a945d",
   "outputs": [
    {
     "name": "stdout",
     "output_type": "stream",
     "text": [
      "set()\n"
     ]
    }
   ],
   "execution_count": 21
  },
  {
   "metadata": {
    "ExecuteTime": {
     "end_time": "2025-03-25T11:45:10.197932Z",
     "start_time": "2025-03-25T11:45:10.193360Z"
    }
   },
   "cell_type": "code",
   "source": [
    "#Ques 18  Write a code to remove the element 4 from the set {1, 2, 3, 4}.\n",
    "set3 = {1, 2, 3, 4}\n",
    "set3.remove(4)\n",
    "print(set3)\n"
   ],
   "id": "c187e337a0c3cf77",
   "outputs": [
    {
     "name": "stdout",
     "output_type": "stream",
     "text": [
      "{1, 2, 3}\n"
     ]
    }
   ],
   "execution_count": 22
  },
  {
   "metadata": {
    "ExecuteTime": {
     "end_time": "2025-03-25T11:45:10.356254Z",
     "start_time": "2025-03-25T11:45:10.352279Z"
    }
   },
   "cell_type": "code",
   "source": [
    "#Ques 19 Write a code to find the union of two sets {1, 2, 3} and {3, 4, 5}.\n",
    "set4 = {1, 2, 3}\n",
    "set5 = {3, 4, 5}\n",
    "set4 | set5"
   ],
   "id": "126fa2ec2bebb0b5",
   "outputs": [
    {
     "data": {
      "text/plain": [
       "{1, 2, 3, 4, 5}"
      ]
     },
     "execution_count": 23,
     "metadata": {},
     "output_type": "execute_result"
    }
   ],
   "execution_count": 23
  },
  {
   "metadata": {
    "ExecuteTime": {
     "end_time": "2025-03-25T11:45:10.524039Z",
     "start_time": "2025-03-25T11:45:10.520221Z"
    }
   },
   "cell_type": "code",
   "source": [
    "#Ques 20 Write a code to find the intersection of two sets {1, 2, 3} and {2, 3, 4}.\n",
    "set6 = {1, 2, 3}\n",
    "set7 = {2, 3, 4}\n",
    "set6 & set7"
   ],
   "id": "6acfb769992d77dd",
   "outputs": [
    {
     "data": {
      "text/plain": [
       "{2, 3}"
      ]
     },
     "execution_count": 24,
     "metadata": {},
     "output_type": "execute_result"
    }
   ],
   "execution_count": 24
  },
  {
   "metadata": {
    "ExecuteTime": {
     "end_time": "2025-03-25T11:45:10.703836Z",
     "start_time": "2025-03-25T11:45:10.697917Z"
    }
   },
   "cell_type": "code",
   "source": [
    "#Ques 21 Write a code to create a dictionary with the keys \"name\", \"age\", and \"city\", and print it\n",
    "dict1 = {\"name\": \"Shweta\", \"age\": 21, \"city\": \"Jaipur\"}\n",
    "print(dict1)"
   ],
   "id": "d5600a91f25af63f",
   "outputs": [
    {
     "name": "stdout",
     "output_type": "stream",
     "text": [
      "{'name': 'Shweta', 'age': 21, 'city': 'Jaipur'}\n"
     ]
    }
   ],
   "execution_count": 25
  },
  {
   "metadata": {
    "ExecuteTime": {
     "end_time": "2025-03-25T11:45:10.878107Z",
     "start_time": "2025-03-25T11:45:10.874312Z"
    }
   },
   "cell_type": "code",
   "source": [
    "#Ques 22  Write a code to add a new key-value pair \"country\": \"USA\" to the dictionary {'name': 'John', 'age': 25}.\n",
    "dict2 = {\"name\": \"John\", \"age\": 25}\n",
    "dict2[\"country\"]= \"USA\"\n",
    "print(dict2)"
   ],
   "id": "ce1a5a66f9092c10",
   "outputs": [
    {
     "name": "stdout",
     "output_type": "stream",
     "text": [
      "{'name': 'John', 'age': 25, 'country': 'USA'}\n"
     ]
    }
   ],
   "execution_count": 26
  },
  {
   "metadata": {
    "ExecuteTime": {
     "end_time": "2025-03-25T11:45:11.049935Z",
     "start_time": "2025-03-25T11:45:11.047025Z"
    }
   },
   "cell_type": "code",
   "source": [
    "#Ques 23  Write a code to access the value associated with the key \"name\" in the dictionary {'name': 'Alice', 'age': 30}.\n",
    "dict3 = {'name': 'Alice', 'age': 30}\n",
    "print(dict3[\"name\"])"
   ],
   "id": "53e4868ed15066bf",
   "outputs": [
    {
     "name": "stdout",
     "output_type": "stream",
     "text": [
      "Alice\n"
     ]
    }
   ],
   "execution_count": 27
  },
  {
   "metadata": {
    "ExecuteTime": {
     "end_time": "2025-03-25T11:45:11.222347Z",
     "start_time": "2025-03-25T11:45:11.217879Z"
    }
   },
   "cell_type": "code",
   "source": [
    "#Ques 24  Write a code to remove the key \"age\" from the dictionary {'name': 'Bob', 'age': 22, 'city': 'New York'}.\n",
    "dict4 ={'name': 'Bob', 'age': 22, 'city': 'New York'}\n",
    "del dict4[\"name\"]\n",
    "print(dict4)"
   ],
   "id": "babdaaf7638375b3",
   "outputs": [
    {
     "name": "stdout",
     "output_type": "stream",
     "text": [
      "{'age': 22, 'city': 'New York'}\n"
     ]
    }
   ],
   "execution_count": 28
  },
  {
   "metadata": {
    "ExecuteTime": {
     "end_time": "2025-03-25T11:45:11.398671Z",
     "start_time": "2025-03-25T11:45:11.396300Z"
    }
   },
   "cell_type": "code",
   "source": [
    "#Ques 25  Write a code to check if the key \"city\" exists in the dictionary {'name': 'Alice', 'city': 'Paris'}.\n",
    "dict5 = {'name': 'Alice', 'city': 'Paris'}\n",
    "print(\"city\" in dict5)"
   ],
   "id": "2593a4a7b7988291",
   "outputs": [
    {
     "name": "stdout",
     "output_type": "stream",
     "text": [
      "True\n"
     ]
    }
   ],
   "execution_count": 29
  },
  {
   "metadata": {
    "ExecuteTime": {
     "end_time": "2025-03-25T11:45:11.587250Z",
     "start_time": "2025-03-25T11:45:11.580909Z"
    }
   },
   "cell_type": "code",
   "source": [
    "#Ques 26 Write a code to create a list, a tuple, and a dictionary, and print them all.\n",
    "my_list = [1, 2, 3]\n",
    "my_tuple = (4, 5, 6)\n",
    "my_dict = {\"a\": 7, \"b\": 8, \"c\": 9}\n",
    "print(my_list, my_tuple, my_dict)"
   ],
   "id": "5d7e2c1abb83e2e6",
   "outputs": [
    {
     "name": "stdout",
     "output_type": "stream",
     "text": [
      "[1, 2, 3] (4, 5, 6) {'a': 7, 'b': 8, 'c': 9}\n"
     ]
    }
   ],
   "execution_count": 30
  },
  {
   "metadata": {
    "ExecuteTime": {
     "end_time": "2025-03-25T11:45:11.754482Z",
     "start_time": "2025-03-25T11:45:11.751768Z"
    }
   },
   "cell_type": "code",
   "source": [
    "#Ques 27  Write a code to create a list of 5 random numbers between 1 and 100, sort it in ascending order, and print the #result.(replaced)\n",
    "import random\n",
    "random_num = random.sample(range(1,101), 5)\n",
    "random_num.sort()\n",
    "print(random_num)"
   ],
   "id": "7f05fb7ad96744b5",
   "outputs": [
    {
     "name": "stdout",
     "output_type": "stream",
     "text": [
      "[2, 23, 34, 68, 71]\n"
     ]
    }
   ],
   "execution_count": 31
  },
  {
   "metadata": {
    "ExecuteTime": {
     "end_time": "2025-03-25T11:45:11.929943Z",
     "start_time": "2025-03-25T11:45:11.927525Z"
    }
   },
   "cell_type": "code",
   "source": [
    "#Ques 28  Write a code to create a list with strings and print the element at the third index.\n",
    "string_list = ['a', 'b', 'c', 'd']\n",
    "print(string_list[3])"
   ],
   "id": "7e8bf74dcb62b71d",
   "outputs": [
    {
     "name": "stdout",
     "output_type": "stream",
     "text": [
      "d\n"
     ]
    }
   ],
   "execution_count": 32
  },
  {
   "metadata": {
    "ExecuteTime": {
     "end_time": "2025-03-25T11:46:40.180322Z",
     "start_time": "2025-03-25T11:46:40.174948Z"
    }
   },
   "cell_type": "code",
   "source": [
    "#Ques 29 Write a code to combine two dictionaries into one and print the result.\n",
    "dict1 = {\"a\": 7, \"b\": 8, \"c\": 9}\n",
    "dict2 = {\"d\": 10, \"e\": 11, \"f\": 12}\n",
    "print(dict1 | dict2)"
   ],
   "id": "12739ec833fdfa1b",
   "outputs": [
    {
     "name": "stdout",
     "output_type": "stream",
     "text": [
      "{'a': 7, 'b': 8, 'c': 9, 'd': 10, 'e': 11, 'f': 12}\n"
     ]
    }
   ],
   "execution_count": 36
  },
  {
   "metadata": {
    "ExecuteTime": {
     "end_time": "2025-03-25T11:45:12.312815Z",
     "start_time": "2025-03-25T11:45:12.310039Z"
    }
   },
   "cell_type": "code",
   "source": [
    "#Ques 30  Write a code to convert a list of strings into a set.\n",
    "set_list = ['a', 'b', 'c', 'd', 'a', 'b', 'a', 'd', 'b', 'a']\n",
    "set_list = set(set_list)\n",
    "print(set_list)"
   ],
   "id": "db6105bfbe025d32",
   "outputs": [
    {
     "name": "stdout",
     "output_type": "stream",
     "text": [
      "{'c', 'b', 'd', 'a'}\n"
     ]
    }
   ],
   "execution_count": 34
  },
  {
   "metadata": {},
   "cell_type": "markdown",
   "source": [
    "#Theory Questions\n",
    "\n",
    "Ques 1. What are data structures, and why are they important?\n",
    "\n",
    "Ans 1. Data Structures are the way of organising and storing data so that it can be accessed and manipulated efficiently.\n",
    "\n",
    "\n",
    "Ques 2.  Explain the difference between mutable and immutable data types with examples.\n",
    "\n",
    "Ans 2. Mutable data types are changeable data types which can be changed after creation. eg, list, sets, dictionaries. While immutable data types are the opposites, which cannot be changed after creation. eg, tuples, string etc.\n",
    "\n",
    "\n",
    "Ques 3. What are the main differences between lists and tuples in Python?\n",
    "\n",
    "Ans3.\n",
    "- lists are mutable data types which tuples are immutable data types\n",
    "- lists are used when data can be changed while tuples are used when data is to remain constant\n",
    "- in lists we use [] brackets and in tuples we use () brackets.\n",
    "\n",
    "\n",
    "Ques 4. Describe how dictionaries store data?\n",
    "\n",
    "Ans 4. Dictionaries store data in form of key values pair.\n",
    "\n",
    "\n",
    "Ques 5. Why might you use a set instead of a list in Python3\n",
    "\n",
    "Ans 5. A set filters the data into unique elements only while list contains repeated elements. So if you want unique set of data use sets function.\n",
    "\n",
    "\n",
    "Ques 6. P What is a string in Python, and how is it different from a list?\n",
    "\n",
    "Ans 6. A string is a sequence of characters arranged in unchangeable order means they are immutable. It used with \" \". While contains different set of data including string which are changeable i.e mutable.\n",
    "\n",
    "\n",
    "Ques 7.  How do tuples ensure data integrity in Python?\n",
    "\n",
    "Ans 7. As tuples are immutable they cannot be changed by any means ensuring the integrity of the data.\n",
    "\n",
    "\n",
    "Ques 8.   What is a hash table, and how does it relate to dictionaries in Python?\n",
    "\n",
    "Ans 8. Hash table stores data of dictionaries in form of key-values.\n",
    "\n",
    "\n",
    "Ques 9. Can lists contain different data types in Python?\n",
    "\n",
    "Ans 9. Yes, list can contain different type of data in Python. For example:\n"
   ],
   "id": "a8730a2f296d43eb"
  },
  {
   "metadata": {
    "ExecuteTime": {
     "end_time": "2025-03-25T11:45:12.686388Z",
     "start_time": "2025-03-25T11:45:12.683067Z"
    }
   },
   "cell_type": "code",
   "source": [
    "list_1 = [1, \"a\", 6.13, True]\n",
    "print(list_1)"
   ],
   "id": "d29161d3cd8b3de9",
   "outputs": [
    {
     "name": "stdout",
     "output_type": "stream",
     "text": [
      "[1, 'a', 6.13, True]\n"
     ]
    }
   ],
   "execution_count": 35
  },
  {
   "metadata": {},
   "cell_type": "markdown",
   "source": [
    "\n",
    "Ques 10.  Explain why strings are immutable in Python?\n",
    "\n",
    "Ans 10. This makes them more efficient and prevents accidental changes.\n",
    "\n",
    "\n",
    "Ques 11. What advantages do dictionaries offer over lists for certain tasks?\n",
    "\n",
    "Ans 11. Its easier to search through dictionary in comparision of lists as dictionaries stores data in key-value format.\n",
    "\n",
    "\n",
    "Ques 12.  Describe a scenario where using a tuple would be preferable over a list.\n",
    "\n",
    "Ans 12. Where you do not want to change data like storing aadhar card number or employee id.\n",
    "\n",
    "\n",
    "Ques 13. How do sets handle duplicate values in Python?\n",
    "\n",
    "Ans 13. Sets automatically removes duplicate values and only gives output of unique values.\n",
    "\n",
    "\n",
    "Ques 14. How does the “in” keyword work differently for lists and dictionaries?\n",
    "\n",
    "Ans 14. In a list, it checks if a value exists and in Dictionaries, it checks if a key exists.\n",
    "\n",
    "\n",
    "Ques 15. Can you modify the elements of a tuple? Explain why or why not.\n",
    "\n",
    "Ans 15. No, we cannot modify the elements of a tuple once created as tuple is an immutable data type.\n",
    "\n",
    "\n",
    "Ques 16. What is a nested dictionary, and give an example of its use case?\n",
    "\n",
    "Ans 16. Nested Dictionary is dictionary inside another dictionary. Example.\n",
    "\n",
    "\n"
   ],
   "id": "2c6ec7df77114ac6"
  },
  {
   "metadata": {
    "ExecuteTime": {
     "end_time": "2025-03-25T12:22:42.899235Z",
     "start_time": "2025-03-25T12:22:42.896422Z"
    }
   },
   "cell_type": "code",
   "source": [
    "#Nested Dictionary\n",
    "Place = {\"country\": \"India\", \"state capitals\": {\"Rajasthan\": \"Jaipur\", \"Uttarpradesh\": \"Lucknow\"}}"
   ],
   "id": "f1071f2b3dea0bbd",
   "outputs": [],
   "execution_count": 41
  },
  {
   "metadata": {},
   "cell_type": "markdown",
   "source": [
    "Ques 17. Describe the time complexity of accessing elements in a dictionary?\n",
    "\n",
    "Ans 17. Very fast, 0(1) time complexity\n",
    "\n",
    "\n",
    "Ques 18. In what situations are lists preferred over dictionaries?\n",
    "\n",
    "Ans 18. Lists are preferred over dictionaries when you have to access the data one by one or when the order of the elements matters.\n",
    "\n",
    "\n",
    "Ques 19. Why are dictionaries considered unordered, and how does that affect data retrieval?\n",
    "\n",
    "Ans 19. Dictionaries are optimized for fast lookups rather than ordered storage.\n",
    "\n",
    "\n",
    "Ques 20. Explain the difference between a list and a dictionary in terms of data retrieval.\n",
    "\n",
    "Ans 20. In list we find data by their index number as in position. While in dictionary we find data by their Key."
   ],
   "id": "54642974c85bc122"
  }
 ],
 "metadata": {
  "kernelspec": {
   "display_name": "Python 3",
   "language": "python",
   "name": "python3"
  },
  "language_info": {
   "codemirror_mode": {
    "name": "ipython",
    "version": 2
   },
   "file_extension": ".py",
   "mimetype": "text/x-python",
   "name": "python",
   "nbconvert_exporter": "python",
   "pygments_lexer": "ipython2",
   "version": "2.7.6"
  }
 },
 "nbformat": 4,
 "nbformat_minor": 5
}
